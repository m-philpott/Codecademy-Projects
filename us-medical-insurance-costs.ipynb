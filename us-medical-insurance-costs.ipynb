{
 "cells": [
  {
   "cell_type": "markdown",
   "metadata": {},
   "source": [
    "# U.S. Medical Insurance Costs\n",
    "This is my US Medical Insurance Costs portfolio project, as part of the Codecademy Data Science learning program. This project utilises Python 3 to investigate a sample dataset representing insurance details. Firstly the dataset will be imported and its qualities assessed."
   ]
  },
  {
   "cell_type": "code",
   "execution_count": 1,
   "metadata": {},
   "outputs": [
    {
     "name": "stdout",
     "output_type": "stream",
     "text": [
      "age,sex,bmi,children,smoker,region,charges\n",
      "\n",
      "19,female,27.9,0,yes,southwest,16884.924\n",
      "\n"
     ]
    }
   ],
   "source": [
    "#import csv file and print first two lines of our insurance document\n",
    "import csv\n",
    "with open(\"insurance.csv\") as insurance_details:\n",
    "    print(insurance_details.readline())\n",
    "    print(insurance_details.readline())"
   ]
  },
  {
   "cell_type": "markdown",
   "metadata": {},
   "source": [
    "Now we know how our dataset is categorised, with one example given to us for reference. We can start to arrange our data."
   ]
  },
  {
   "cell_type": "code",
   "execution_count": 2,
   "metadata": {},
   "outputs": [],
   "source": [
    "#Empty lists to be populated after importing our data\n",
    "ages = []\n",
    "sexes = []\n",
    "bmis = []\n",
    "num_of_children = []\n",
    "smoker_status = []\n",
    "regions = []\n",
    "charges = []"
   ]
  },
  {
   "cell_type": "code",
   "execution_count": 3,
   "metadata": {},
   "outputs": [],
   "source": [
    "#Open the insurance document and populate the lists with appropriate data. Convert numerical data from strings to floats / integers.\n",
    "with open(\"insurance.csv\", newline = '') as insurance_details_doc:\n",
    "    insurance_details = csv.DictReader(insurance_details_doc)\n",
    "    for file in insurance_details:\n",
    "        ages.append(int(file['age']))\n",
    "        sexes.append(file['sex'])\n",
    "        bmis.append(float(file['bmi']))\n",
    "        num_of_children.append(int(file['children']))\n",
    "        smoker_status.append(file['smoker'])\n",
    "        regions.append(file['region'])\n",
    "        charges.append(float(file['charges']))"
   ]
  },
  {
   "cell_type": "markdown",
   "metadata": {},
   "source": [
    "Now that we have the lists in order we can find some key statistics to understand the demographic better. \n",
    "\n",
    "We want to know the averages of our quantitative data: age, bmi and number of children.\n"
   ]
  },
  {
   "cell_type": "code",
   "execution_count": 4,
   "metadata": {},
   "outputs": [
    {
     "name": "stdout",
     "output_type": "stream",
     "text": [
      "There are 1338 files on record.\n",
      "The average age per file is 39.20702541106129\n",
      "The average BMI per file is 30.663396860986538\n",
      "The average number of children per file is 1.0949177877429\n",
      "The average charge per file is 13270.422265141257\n"
     ]
    }
   ],
   "source": [
    "#Define a function to produce our mean values\n",
    "def find_average(lst):\n",
    "    return(sum(lst)/len(lst))\n",
    "#Apply function to age, bmi and number of children   \n",
    "print(\"There are \" + str(len(ages)) + \" files on record.\")\n",
    "print(\"The average age per file is \" + str(find_average(ages)))\n",
    "print(\"The average BMI per file is \" + str(find_average(bmis)))\n",
    "print(\"The average number of children per file is \" + str(find_average(num_of_children)))\n",
    "print(\"The average charge per file is \" + str(find_average(charges)))"
   ]
  },
  {
   "cell_type": "code",
   "execution_count": 5,
   "metadata": {},
   "outputs": [],
   "source": [
    "def find_percentage(item,lst):\n",
    "    return(100*lst.count(item)/len(lst))"
   ]
  },
  {
   "cell_type": "code",
   "execution_count": 6,
   "metadata": {},
   "outputs": [
    {
     "name": "stdout",
     "output_type": "stream",
     "text": [
      "The percentage of males in our sample is 50.52316890881913%.\n",
      "The percentage of smokers in our sample is 20.47832585949178%.\n"
     ]
    }
   ],
   "source": [
    "print(\"The percentage of males in our sample is \" + str(find_percentage('male',sexes)) + \"%.\")\n",
    "print(\"The percentage of smokers in our sample is \" + str(find_percentage('yes',smoker_status)) + \"%.\")"
   ]
  },
  {
   "cell_type": "markdown",
   "metadata": {},
   "source": [
    "Now we know a little more, our male / female ratio is fairly evenly split. Smokers make up approximately 20% of the sample population. Time to rearrange the data for more suitable analysis. Namely making qualitative data binary. We are interested in rearranging the 'sexes', 'smoker_status' and 'regions' lists as a result. Sexes and smoker_status will become binary, regions will be split into categories that allow binary distribution. Let's arrange sexes and smoker status first:\n",
    " - sexes: male = 1; female = 0\n",
    " - smoker: yes = 1; no = 0"
   ]
  },
  {
   "cell_type": "code",
   "execution_count": 7,
   "metadata": {},
   "outputs": [],
   "source": [
    "#New empty lists for binary data to be populated into\n",
    "new_sexes = []\n",
    "new_smoker_status = []\n",
    "#Loops to arrange binary data based on values\n",
    "for sex in sexes:\n",
    "    if sex == 'male':\n",
    "        new_sexes.append(1)\n",
    "    if sex == 'female':\n",
    "        new_sexes.append(0)\n",
    "        \n",
    "for smoker in smoker_status:\n",
    "    if smoker == 'yes':\n",
    "        new_smoker_status.append(1)\n",
    "    if smoker == 'no':\n",
    "        new_smoker_status.append(0)\n",
    "\n",
    "smoker_status = new_smoker_status\n",
    "sexes = new_sexes"
   ]
  },
  {
   "cell_type": "markdown",
   "metadata": {},
   "source": [
    "Now for our regions. These will be split into north, south, east and west with binary data. Yes = 1; No = 0."
   ]
  },
  {
   "cell_type": "code",
   "execution_count": 8,
   "metadata": {},
   "outputs": [],
   "source": [
    "north = []\n",
    "south = []\n",
    "east = []\n",
    "west = []\n",
    "for region in regions:\n",
    "    if 'south' in region:\n",
    "        south.append(1)\n",
    "    else:\n",
    "        south.append(0)\n",
    "    if 'north' in region:\n",
    "        north.append(1)\n",
    "    else:\n",
    "        north.append(0)\n",
    "    if 'east' in region:\n",
    "        east.append(1)\n",
    "    else:\n",
    "        east.append(0)\n",
    "    if 'west' in region:\n",
    "        west.append(1)\n",
    "    else:\n",
    "        west.append(0)"
   ]
  },
  {
   "cell_type": "code",
   "execution_count": 9,
   "metadata": {},
   "outputs": [
    {
     "name": "stdout",
     "output_type": "stream",
     "text": [
      "In our sample population, 649 live in the north, 650 live in the west, 689 live in the south, 688 live in the east.\n"
     ]
    }
   ],
   "source": [
    "print(\"In our sample population, \" + str(north.count(1)) + \" live in the north, \" + str(west.count(1)) + \" live in the west, \" + str(south.count(1)) + \" live in the south, \" + str(east.count(1)) + \" live in the east.\")"
   ]
  },
  {
   "cell_type": "markdown",
   "metadata": {},
   "source": [
    "Management wants to know a little more on how the age groups are split and wants to know each year group in bands of 10 yrs, starting with 20 inclusive up until 60 (but including a wider category of below 20 and above 60)"
   ]
  },
  {
   "cell_type": "code",
   "execution_count": 10,
   "metadata": {},
   "outputs": [],
   "source": [
    "below_20 = 0\n",
    "twenty_to_thirty = 0\n",
    "thirty_to_fourty = 0\n",
    "fourty_to_fifty = 0\n",
    "fifty_to_sixty = 0\n",
    "above_60 = 0\n",
    "for age in ages:\n",
    "    if age >= 60:\n",
    "        above_60 += 1\n",
    "    elif age >= 50:\n",
    "        fifty_to_sixty += 1\n",
    "    elif age >= 40:\n",
    "        fourty_to_fifty += 1\n",
    "    elif age >= 30:\n",
    "        thirty_to_fourty += 1\n",
    "    elif age >= 20:\n",
    "        twenty_to_thirty += 1\n",
    "    else:\n",
    "        below_20 += 1"
   ]
  },
  {
   "cell_type": "code",
   "execution_count": 11,
   "metadata": {},
   "outputs": [
    {
     "name": "stdout",
     "output_type": "stream",
     "text": [
      "Below 20: 137\n",
      "20-30: 280\n",
      "30-40: 257\n",
      "40-50: 279\n",
      "50-60: 271\n",
      "Above 60: 114\n"
     ]
    }
   ],
   "source": [
    "print(\n",
    "\"Below 20: \" + str(below_20) + \"\\n\"\n",
    "\"20-30: \" + str(twenty_to_thirty) + \"\\n\"\n",
    "\"30-40: \" + str(thirty_to_fourty) + \"\\n\"\n",
    "\"40-50: \" + str(fourty_to_fifty) + \"\\n\"\n",
    "\"50-60: \" + str(fifty_to_sixty) + \"\\n\"\n",
    "\"Above 60: \" + str(above_60))"
   ]
  },
  {
   "cell_type": "code",
   "execution_count": 12,
   "metadata": {},
   "outputs": [],
   "source": [
    "import matplotlib.pyplot as plt"
   ]
  },
  {
   "cell_type": "code",
   "execution_count": 13,
   "metadata": {},
   "outputs": [
    {
     "data": {
      "text/plain": [
       "[<matplotlib.lines.Line2D at 0x29d9b95e490>]"
      ]
     },
     "execution_count": 13,
     "metadata": {},
     "output_type": "execute_result"
    },
    {
     "data": {
      "image/png": "[encoded data removed]",
      "text/plain": [
       "<Figure size 432x288 with 1 Axes>"
      ]
     },
     "metadata": {
      "needs_background": "light"
     },
     "output_type": "display_data"
    }
   ],
   "source": [
    "plt.plot([10,25,35,45,55,75],[137,280,257,279,271,114])"
   ]
  },
  {
   "cell_type": "markdown",
   "metadata": {},
   "source": [
    "Recent retention data suggests that an increasing number of 30-40 year olds have been discontinuing their payments as indicated by the small dip in numbers above, with the main reason given being the high prices. We have decided to give non-smokers below 40 a 5% discount, and smokers below 40 a 2% discount and amend the charges list appropriately"
   ]
  },
  {
   "cell_type": "code",
   "execution_count": 14,
   "metadata": {},
   "outputs": [],
   "source": [
    "for i in range(len(ages)):\n",
    "    if ages[i] < 40:\n",
    "        if smoker_status[i] == 0:\n",
    "            charges[i] = 0.95*charges[i]\n",
    "        else:\n",
    "            charges[i] = 0.98*charges[i]"
   ]
  },
  {
   "cell_type": "code",
   "execution_count": 15,
   "metadata": {},
   "outputs": [],
   "source": [
    "import random"
   ]
  },
  {
   "cell_type": "markdown",
   "metadata": {},
   "source": [
    "Now we want to create another variable for our customers - fitness. This is the average weekly minutes that the customer has been exercising, and we want to apply a discount that is proportional to this value, with max value of 300. First we will create the list for fitness levels, for the purpose of this project this is a randomly generated list."
   ]
  },
  {
   "cell_type": "code",
   "execution_count": 16,
   "metadata": {},
   "outputs": [],
   "source": [
    "fitness = []\n",
    "for i in range(len(charges)):\n",
    "    n = random.randint(0,300)\n",
    "    fitness.append(n)"
   ]
  },
  {
   "cell_type": "code",
   "execution_count": 17,
   "metadata": {},
   "outputs": [],
   "source": [
    "for i in range(len(charges)):\n",
    "    charges[i] = int(charges[i] - (fitness[i]/3))"
   ]
  },
  {
   "cell_type": "code",
   "execution_count": 23,
   "metadata": {},
   "outputs": [],
   "source": [
    "rows = zip(ages,sexes,bmis,num_of_children,smoker_status,fitness,north,south,east,west,charges)\n",
    "with open(\"new_insurance.csv\", \"w\", newline = \"\") as insurance_details:\n",
    "    writer = csv.writer(insurance_details)\n",
    "    writer.writerow([\"Age\", \"Sex\", \"BMI\", \"Children\", \"Smoker\", \"Fitness\", \"North\", \"South\", \"East\", \"West\", \"Charges\"])\n",
    "    for row in rows:\n",
    "        writer.writerow(row)"
   ]
  },
  {
   "cell_type": "code",
   "execution_count": 24,
   "metadata": {},
   "outputs": [
    {
     "name": "stdout",
     "output_type": "stream",
     "text": [
      "Age,Sex,BMI,Children,Smoker,Fitness,North,South,East,West,Charges\n",
      "\n",
      "19,0,27.9,0,1,208,0,1,0,1,16477\n",
      "\n"
     ]
    }
   ],
   "source": [
    "with open(\"new_insurance.csv\") as insurance_details:\n",
    "    print(insurance_details.readline())\n",
    "    print(insurance_details.readline())"
   ]
  },
  {
   "cell_type": "markdown",
   "metadata": {},
   "source": [
    "Adjusted charges are now saved in a new file, discounts have been applied"
   ]
  }
 ],
 "metadata": {
  "kernelspec": {
   "display_name": "Python 3",
   "language": "python",
   "name": "python3"
  },
  "language_info": {
   "codemirror_mode": {
    "name": "ipython",
    "version": 3
   },
   "file_extension": ".py",
   "mimetype": "text/x-python",
   "name": "python",
   "nbconvert_exporter": "python",
   "pygments_lexer": "ipython3",
   "version": "3.8.5"
  }
 },
 "nbformat": 4,
 "nbformat_minor": 4
}
